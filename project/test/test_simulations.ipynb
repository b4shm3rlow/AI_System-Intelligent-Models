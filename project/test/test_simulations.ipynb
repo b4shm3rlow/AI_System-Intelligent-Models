{
  "cells": [
    {
      "cell_type": "markdown",
      "metadata": {},
      "source": [
        "TEST SIMULAZIONI SU COLAB"
      ]
    },
    {
      "cell_type": "code",
      "execution_count": 1,
      "metadata": {
        "colab": {
          "base_uri": "https://localhost:8080/",
          "height": 90
        },
        "id": "o5MsQWPgj1Ly",
        "outputId": "d8d7d955-9776-46c7-e46f-44a126ffe212"
      },
      "outputs": [
        {
          "data": {
            "text/html": [
              "\n",
              "     <input type=\"file\" id=\"files-02c32302-0965-4c07-89a7-3a5b07b86baf\" name=\"files[]\" multiple disabled\n",
              "        style=\"border:none\" />\n",
              "     <output id=\"result-02c32302-0965-4c07-89a7-3a5b07b86baf\">\n",
              "      Upload widget is only available when the cell has been executed in the\n",
              "      current browser session. Please rerun this cell to enable.\n",
              "      </output>\n",
              "      <script>// Copyright 2017 Google LLC\n",
              "//\n",
              "// Licensed under the Apache License, Version 2.0 (the \"License\");\n",
              "// you may not use this file except in compliance with the License.\n",
              "// You may obtain a copy of the License at\n",
              "//\n",
              "//      http://www.apache.org/licenses/LICENSE-2.0\n",
              "//\n",
              "// Unless required by applicable law or agreed to in writing, software\n",
              "// distributed under the License is distributed on an \"AS IS\" BASIS,\n",
              "// WITHOUT WARRANTIES OR CONDITIONS OF ANY KIND, either express or implied.\n",
              "// See the License for the specific language governing permissions and\n",
              "// limitations under the License.\n",
              "\n",
              "/**\n",
              " * @fileoverview Helpers for google.colab Python module.\n",
              " */\n",
              "(function(scope) {\n",
              "function span(text, styleAttributes = {}) {\n",
              "  const element = document.createElement('span');\n",
              "  element.textContent = text;\n",
              "  for (const key of Object.keys(styleAttributes)) {\n",
              "    element.style[key] = styleAttributes[key];\n",
              "  }\n",
              "  return element;\n",
              "}\n",
              "\n",
              "// Max number of bytes which will be uploaded at a time.\n",
              "const MAX_PAYLOAD_SIZE = 100 * 1024;\n",
              "\n",
              "function _uploadFiles(inputId, outputId) {\n",
              "  const steps = uploadFilesStep(inputId, outputId);\n",
              "  const outputElement = document.getElementById(outputId);\n",
              "  // Cache steps on the outputElement to make it available for the next call\n",
              "  // to uploadFilesContinue from Python.\n",
              "  outputElement.steps = steps;\n",
              "\n",
              "  return _uploadFilesContinue(outputId);\n",
              "}\n",
              "\n",
              "// This is roughly an async generator (not supported in the browser yet),\n",
              "// where there are multiple asynchronous steps and the Python side is going\n",
              "// to poll for completion of each step.\n",
              "// This uses a Promise to block the python side on completion of each step,\n",
              "// then passes the result of the previous step as the input to the next step.\n",
              "function _uploadFilesContinue(outputId) {\n",
              "  const outputElement = document.getElementById(outputId);\n",
              "  const steps = outputElement.steps;\n",
              "\n",
              "  const next = steps.next(outputElement.lastPromiseValue);\n",
              "  return Promise.resolve(next.value.promise).then((value) => {\n",
              "    // Cache the last promise value to make it available to the next\n",
              "    // step of the generator.\n",
              "    outputElement.lastPromiseValue = value;\n",
              "    return next.value.response;\n",
              "  });\n",
              "}\n",
              "\n",
              "/**\n",
              " * Generator function which is called between each async step of the upload\n",
              " * process.\n",
              " * @param {string} inputId Element ID of the input file picker element.\n",
              " * @param {string} outputId Element ID of the output display.\n",
              " * @return {!Iterable<!Object>} Iterable of next steps.\n",
              " */\n",
              "function* uploadFilesStep(inputId, outputId) {\n",
              "  const inputElement = document.getElementById(inputId);\n",
              "  inputElement.disabled = false;\n",
              "\n",
              "  const outputElement = document.getElementById(outputId);\n",
              "  outputElement.innerHTML = '';\n",
              "\n",
              "  const pickedPromise = new Promise((resolve) => {\n",
              "    inputElement.addEventListener('change', (e) => {\n",
              "      resolve(e.target.files);\n",
              "    });\n",
              "  });\n",
              "\n",
              "  const cancel = document.createElement('button');\n",
              "  inputElement.parentElement.appendChild(cancel);\n",
              "  cancel.textContent = 'Cancel upload';\n",
              "  const cancelPromise = new Promise((resolve) => {\n",
              "    cancel.onclick = () => {\n",
              "      resolve(null);\n",
              "    };\n",
              "  });\n",
              "\n",
              "  // Wait for the user to pick the files.\n",
              "  const files = yield {\n",
              "    promise: Promise.race([pickedPromise, cancelPromise]),\n",
              "    response: {\n",
              "      action: 'starting',\n",
              "    }\n",
              "  };\n",
              "\n",
              "  cancel.remove();\n",
              "\n",
              "  // Disable the input element since further picks are not allowed.\n",
              "  inputElement.disabled = true;\n",
              "\n",
              "  if (!files) {\n",
              "    return {\n",
              "      response: {\n",
              "        action: 'complete',\n",
              "      }\n",
              "    };\n",
              "  }\n",
              "\n",
              "  for (const file of files) {\n",
              "    const li = document.createElement('li');\n",
              "    li.append(span(file.name, {fontWeight: 'bold'}));\n",
              "    li.append(span(\n",
              "        `(${file.type || 'n/a'}) - ${file.size} bytes, ` +\n",
              "        `last modified: ${\n",
              "            file.lastModifiedDate ? file.lastModifiedDate.toLocaleDateString() :\n",
              "                                    'n/a'} - `));\n",
              "    const percent = span('0% done');\n",
              "    li.appendChild(percent);\n",
              "\n",
              "    outputElement.appendChild(li);\n",
              "\n",
              "    const fileDataPromise = new Promise((resolve) => {\n",
              "      const reader = new FileReader();\n",
              "      reader.onload = (e) => {\n",
              "        resolve(e.target.result);\n",
              "      };\n",
              "      reader.readAsArrayBuffer(file);\n",
              "    });\n",
              "    // Wait for the data to be ready.\n",
              "    let fileData = yield {\n",
              "      promise: fileDataPromise,\n",
              "      response: {\n",
              "        action: 'continue',\n",
              "      }\n",
              "    };\n",
              "\n",
              "    // Use a chunked sending to avoid message size limits. See b/62115660.\n",
              "    let position = 0;\n",
              "    do {\n",
              "      const length = Math.min(fileData.byteLength - position, MAX_PAYLOAD_SIZE);\n",
              "      const chunk = new Uint8Array(fileData, position, length);\n",
              "      position += length;\n",
              "\n",
              "      const base64 = btoa(String.fromCharCode.apply(null, chunk));\n",
              "      yield {\n",
              "        response: {\n",
              "          action: 'append',\n",
              "          file: file.name,\n",
              "          data: base64,\n",
              "        },\n",
              "      };\n",
              "\n",
              "      let percentDone = fileData.byteLength === 0 ?\n",
              "          100 :\n",
              "          Math.round((position / fileData.byteLength) * 100);\n",
              "      percent.textContent = `${percentDone}% done`;\n",
              "\n",
              "    } while (position < fileData.byteLength);\n",
              "  }\n",
              "\n",
              "  // All done.\n",
              "  yield {\n",
              "    response: {\n",
              "      action: 'complete',\n",
              "    }\n",
              "  };\n",
              "}\n",
              "\n",
              "scope.google = scope.google || {};\n",
              "scope.google.colab = scope.google.colab || {};\n",
              "scope.google.colab._files = {\n",
              "  _uploadFiles,\n",
              "  _uploadFilesContinue,\n",
              "};\n",
              "})(self);\n",
              "</script> "
            ],
            "text/plain": [
              "<IPython.core.display.HTML object>"
            ]
          },
          "metadata": {},
          "output_type": "display_data"
        },
        {
          "name": "stdout",
          "output_type": "stream",
          "text": [
            "Saving NetworkSIR.py to NetworkSIR.py\n"
          ]
        },
        {
          "data": {
            "text/plain": [
              "6180"
            ]
          },
          "execution_count": 1,
          "metadata": {},
          "output_type": "execute_result"
        }
      ],
      "source": [
        "from google.colab import files\n",
        "src = list(files.upload().values())[0]\n",
        "open('NetworkSIR.py','wb').write(src)"
      ]
    },
    {
      "cell_type": "code",
      "execution_count": 2,
      "metadata": {
        "colab": {
          "base_uri": "https://localhost:8080/",
          "height": 90
        },
        "id": "Tz95PHVvRpAl",
        "outputId": "01c6c6c9-a446-43b0-c61d-f3d67a7b7511"
      },
      "outputs": [
        {
          "data": {
            "text/html": [
              "\n",
              "     <input type=\"file\" id=\"files-c2cd3783-5c60-4bff-b8b1-68e6c5d5742c\" name=\"files[]\" multiple disabled\n",
              "        style=\"border:none\" />\n",
              "     <output id=\"result-c2cd3783-5c60-4bff-b8b1-68e6c5d5742c\">\n",
              "      Upload widget is only available when the cell has been executed in the\n",
              "      current browser session. Please rerun this cell to enable.\n",
              "      </output>\n",
              "      <script>// Copyright 2017 Google LLC\n",
              "//\n",
              "// Licensed under the Apache License, Version 2.0 (the \"License\");\n",
              "// you may not use this file except in compliance with the License.\n",
              "// You may obtain a copy of the License at\n",
              "//\n",
              "//      http://www.apache.org/licenses/LICENSE-2.0\n",
              "//\n",
              "// Unless required by applicable law or agreed to in writing, software\n",
              "// distributed under the License is distributed on an \"AS IS\" BASIS,\n",
              "// WITHOUT WARRANTIES OR CONDITIONS OF ANY KIND, either express or implied.\n",
              "// See the License for the specific language governing permissions and\n",
              "// limitations under the License.\n",
              "\n",
              "/**\n",
              " * @fileoverview Helpers for google.colab Python module.\n",
              " */\n",
              "(function(scope) {\n",
              "function span(text, styleAttributes = {}) {\n",
              "  const element = document.createElement('span');\n",
              "  element.textContent = text;\n",
              "  for (const key of Object.keys(styleAttributes)) {\n",
              "    element.style[key] = styleAttributes[key];\n",
              "  }\n",
              "  return element;\n",
              "}\n",
              "\n",
              "// Max number of bytes which will be uploaded at a time.\n",
              "const MAX_PAYLOAD_SIZE = 100 * 1024;\n",
              "\n",
              "function _uploadFiles(inputId, outputId) {\n",
              "  const steps = uploadFilesStep(inputId, outputId);\n",
              "  const outputElement = document.getElementById(outputId);\n",
              "  // Cache steps on the outputElement to make it available for the next call\n",
              "  // to uploadFilesContinue from Python.\n",
              "  outputElement.steps = steps;\n",
              "\n",
              "  return _uploadFilesContinue(outputId);\n",
              "}\n",
              "\n",
              "// This is roughly an async generator (not supported in the browser yet),\n",
              "// where there are multiple asynchronous steps and the Python side is going\n",
              "// to poll for completion of each step.\n",
              "// This uses a Promise to block the python side on completion of each step,\n",
              "// then passes the result of the previous step as the input to the next step.\n",
              "function _uploadFilesContinue(outputId) {\n",
              "  const outputElement = document.getElementById(outputId);\n",
              "  const steps = outputElement.steps;\n",
              "\n",
              "  const next = steps.next(outputElement.lastPromiseValue);\n",
              "  return Promise.resolve(next.value.promise).then((value) => {\n",
              "    // Cache the last promise value to make it available to the next\n",
              "    // step of the generator.\n",
              "    outputElement.lastPromiseValue = value;\n",
              "    return next.value.response;\n",
              "  });\n",
              "}\n",
              "\n",
              "/**\n",
              " * Generator function which is called between each async step of the upload\n",
              " * process.\n",
              " * @param {string} inputId Element ID of the input file picker element.\n",
              " * @param {string} outputId Element ID of the output display.\n",
              " * @return {!Iterable<!Object>} Iterable of next steps.\n",
              " */\n",
              "function* uploadFilesStep(inputId, outputId) {\n",
              "  const inputElement = document.getElementById(inputId);\n",
              "  inputElement.disabled = false;\n",
              "\n",
              "  const outputElement = document.getElementById(outputId);\n",
              "  outputElement.innerHTML = '';\n",
              "\n",
              "  const pickedPromise = new Promise((resolve) => {\n",
              "    inputElement.addEventListener('change', (e) => {\n",
              "      resolve(e.target.files);\n",
              "    });\n",
              "  });\n",
              "\n",
              "  const cancel = document.createElement('button');\n",
              "  inputElement.parentElement.appendChild(cancel);\n",
              "  cancel.textContent = 'Cancel upload';\n",
              "  const cancelPromise = new Promise((resolve) => {\n",
              "    cancel.onclick = () => {\n",
              "      resolve(null);\n",
              "    };\n",
              "  });\n",
              "\n",
              "  // Wait for the user to pick the files.\n",
              "  const files = yield {\n",
              "    promise: Promise.race([pickedPromise, cancelPromise]),\n",
              "    response: {\n",
              "      action: 'starting',\n",
              "    }\n",
              "  };\n",
              "\n",
              "  cancel.remove();\n",
              "\n",
              "  // Disable the input element since further picks are not allowed.\n",
              "  inputElement.disabled = true;\n",
              "\n",
              "  if (!files) {\n",
              "    return {\n",
              "      response: {\n",
              "        action: 'complete',\n",
              "      }\n",
              "    };\n",
              "  }\n",
              "\n",
              "  for (const file of files) {\n",
              "    const li = document.createElement('li');\n",
              "    li.append(span(file.name, {fontWeight: 'bold'}));\n",
              "    li.append(span(\n",
              "        `(${file.type || 'n/a'}) - ${file.size} bytes, ` +\n",
              "        `last modified: ${\n",
              "            file.lastModifiedDate ? file.lastModifiedDate.toLocaleDateString() :\n",
              "                                    'n/a'} - `));\n",
              "    const percent = span('0% done');\n",
              "    li.appendChild(percent);\n",
              "\n",
              "    outputElement.appendChild(li);\n",
              "\n",
              "    const fileDataPromise = new Promise((resolve) => {\n",
              "      const reader = new FileReader();\n",
              "      reader.onload = (e) => {\n",
              "        resolve(e.target.result);\n",
              "      };\n",
              "      reader.readAsArrayBuffer(file);\n",
              "    });\n",
              "    // Wait for the data to be ready.\n",
              "    let fileData = yield {\n",
              "      promise: fileDataPromise,\n",
              "      response: {\n",
              "        action: 'continue',\n",
              "      }\n",
              "    };\n",
              "\n",
              "    // Use a chunked sending to avoid message size limits. See b/62115660.\n",
              "    let position = 0;\n",
              "    do {\n",
              "      const length = Math.min(fileData.byteLength - position, MAX_PAYLOAD_SIZE);\n",
              "      const chunk = new Uint8Array(fileData, position, length);\n",
              "      position += length;\n",
              "\n",
              "      const base64 = btoa(String.fromCharCode.apply(null, chunk));\n",
              "      yield {\n",
              "        response: {\n",
              "          action: 'append',\n",
              "          file: file.name,\n",
              "          data: base64,\n",
              "        },\n",
              "      };\n",
              "\n",
              "      let percentDone = fileData.byteLength === 0 ?\n",
              "          100 :\n",
              "          Math.round((position / fileData.byteLength) * 100);\n",
              "      percent.textContent = `${percentDone}% done`;\n",
              "\n",
              "    } while (position < fileData.byteLength);\n",
              "  }\n",
              "\n",
              "  // All done.\n",
              "  yield {\n",
              "    response: {\n",
              "      action: 'complete',\n",
              "    }\n",
              "  };\n",
              "}\n",
              "\n",
              "scope.google = scope.google || {};\n",
              "scope.google.colab = scope.google.colab || {};\n",
              "scope.google.colab._files = {\n",
              "  _uploadFiles,\n",
              "  _uploadFilesContinue,\n",
              "};\n",
              "})(self);\n",
              "</script> "
            ],
            "text/plain": [
              "<IPython.core.display.HTML object>"
            ]
          },
          "metadata": {},
          "output_type": "display_data"
        },
        {
          "name": "stdout",
          "output_type": "stream",
          "text": [
            "Saving centralitynodes.py to centralitynodes.py\n"
          ]
        },
        {
          "data": {
            "text/plain": [
              "4260"
            ]
          },
          "execution_count": 2,
          "metadata": {},
          "output_type": "execute_result"
        }
      ],
      "source": [
        "from google.colab import files\n",
        "src = list(files.upload().values())[0]\n",
        "open('centralitynodes.py','wb').write(src)"
      ]
    },
    {
      "cell_type": "markdown",
      "metadata": {
        "id": "NMHi0aYSvUcx"
      },
      "source": [
        "IMPORT DEL MODULO PYTHON IN COLAB"
      ]
    },
    {
      "cell_type": "markdown",
      "metadata": {
        "id": "tW52e3ytvX7R"
      },
      "source": [
        "IMPORT DEL FILE/FILES CSV IN COLAB"
      ]
    },
    {
      "cell_type": "code",
      "execution_count": 3,
      "metadata": {
        "colab": {
          "base_uri": "https://localhost:8080/",
          "height": 73
        },
        "id": "Y_JvFxEgvdFx",
        "outputId": "aa3f4b81-9ce1-4e9f-bdf8-bdec7086bfd2"
      },
      "outputs": [
        {
          "data": {
            "text/html": [
              "\n",
              "     <input type=\"file\" id=\"files-441ebace-8bae-429c-a0c6-bece40d917e9\" name=\"files[]\" multiple disabled\n",
              "        style=\"border:none\" />\n",
              "     <output id=\"result-441ebace-8bae-429c-a0c6-bece40d917e9\">\n",
              "      Upload widget is only available when the cell has been executed in the\n",
              "      current browser session. Please rerun this cell to enable.\n",
              "      </output>\n",
              "      <script>// Copyright 2017 Google LLC\n",
              "//\n",
              "// Licensed under the Apache License, Version 2.0 (the \"License\");\n",
              "// you may not use this file except in compliance with the License.\n",
              "// You may obtain a copy of the License at\n",
              "//\n",
              "//      http://www.apache.org/licenses/LICENSE-2.0\n",
              "//\n",
              "// Unless required by applicable law or agreed to in writing, software\n",
              "// distributed under the License is distributed on an \"AS IS\" BASIS,\n",
              "// WITHOUT WARRANTIES OR CONDITIONS OF ANY KIND, either express or implied.\n",
              "// See the License for the specific language governing permissions and\n",
              "// limitations under the License.\n",
              "\n",
              "/**\n",
              " * @fileoverview Helpers for google.colab Python module.\n",
              " */\n",
              "(function(scope) {\n",
              "function span(text, styleAttributes = {}) {\n",
              "  const element = document.createElement('span');\n",
              "  element.textContent = text;\n",
              "  for (const key of Object.keys(styleAttributes)) {\n",
              "    element.style[key] = styleAttributes[key];\n",
              "  }\n",
              "  return element;\n",
              "}\n",
              "\n",
              "// Max number of bytes which will be uploaded at a time.\n",
              "const MAX_PAYLOAD_SIZE = 100 * 1024;\n",
              "\n",
              "function _uploadFiles(inputId, outputId) {\n",
              "  const steps = uploadFilesStep(inputId, outputId);\n",
              "  const outputElement = document.getElementById(outputId);\n",
              "  // Cache steps on the outputElement to make it available for the next call\n",
              "  // to uploadFilesContinue from Python.\n",
              "  outputElement.steps = steps;\n",
              "\n",
              "  return _uploadFilesContinue(outputId);\n",
              "}\n",
              "\n",
              "// This is roughly an async generator (not supported in the browser yet),\n",
              "// where there are multiple asynchronous steps and the Python side is going\n",
              "// to poll for completion of each step.\n",
              "// This uses a Promise to block the python side on completion of each step,\n",
              "// then passes the result of the previous step as the input to the next step.\n",
              "function _uploadFilesContinue(outputId) {\n",
              "  const outputElement = document.getElementById(outputId);\n",
              "  const steps = outputElement.steps;\n",
              "\n",
              "  const next = steps.next(outputElement.lastPromiseValue);\n",
              "  return Promise.resolve(next.value.promise).then((value) => {\n",
              "    // Cache the last promise value to make it available to the next\n",
              "    // step of the generator.\n",
              "    outputElement.lastPromiseValue = value;\n",
              "    return next.value.response;\n",
              "  });\n",
              "}\n",
              "\n",
              "/**\n",
              " * Generator function which is called between each async step of the upload\n",
              " * process.\n",
              " * @param {string} inputId Element ID of the input file picker element.\n",
              " * @param {string} outputId Element ID of the output display.\n",
              " * @return {!Iterable<!Object>} Iterable of next steps.\n",
              " */\n",
              "function* uploadFilesStep(inputId, outputId) {\n",
              "  const inputElement = document.getElementById(inputId);\n",
              "  inputElement.disabled = false;\n",
              "\n",
              "  const outputElement = document.getElementById(outputId);\n",
              "  outputElement.innerHTML = '';\n",
              "\n",
              "  const pickedPromise = new Promise((resolve) => {\n",
              "    inputElement.addEventListener('change', (e) => {\n",
              "      resolve(e.target.files);\n",
              "    });\n",
              "  });\n",
              "\n",
              "  const cancel = document.createElement('button');\n",
              "  inputElement.parentElement.appendChild(cancel);\n",
              "  cancel.textContent = 'Cancel upload';\n",
              "  const cancelPromise = new Promise((resolve) => {\n",
              "    cancel.onclick = () => {\n",
              "      resolve(null);\n",
              "    };\n",
              "  });\n",
              "\n",
              "  // Wait for the user to pick the files.\n",
              "  const files = yield {\n",
              "    promise: Promise.race([pickedPromise, cancelPromise]),\n",
              "    response: {\n",
              "      action: 'starting',\n",
              "    }\n",
              "  };\n",
              "\n",
              "  cancel.remove();\n",
              "\n",
              "  // Disable the input element since further picks are not allowed.\n",
              "  inputElement.disabled = true;\n",
              "\n",
              "  if (!files) {\n",
              "    return {\n",
              "      response: {\n",
              "        action: 'complete',\n",
              "      }\n",
              "    };\n",
              "  }\n",
              "\n",
              "  for (const file of files) {\n",
              "    const li = document.createElement('li');\n",
              "    li.append(span(file.name, {fontWeight: 'bold'}));\n",
              "    li.append(span(\n",
              "        `(${file.type || 'n/a'}) - ${file.size} bytes, ` +\n",
              "        `last modified: ${\n",
              "            file.lastModifiedDate ? file.lastModifiedDate.toLocaleDateString() :\n",
              "                                    'n/a'} - `));\n",
              "    const percent = span('0% done');\n",
              "    li.appendChild(percent);\n",
              "\n",
              "    outputElement.appendChild(li);\n",
              "\n",
              "    const fileDataPromise = new Promise((resolve) => {\n",
              "      const reader = new FileReader();\n",
              "      reader.onload = (e) => {\n",
              "        resolve(e.target.result);\n",
              "      };\n",
              "      reader.readAsArrayBuffer(file);\n",
              "    });\n",
              "    // Wait for the data to be ready.\n",
              "    let fileData = yield {\n",
              "      promise: fileDataPromise,\n",
              "      response: {\n",
              "        action: 'continue',\n",
              "      }\n",
              "    };\n",
              "\n",
              "    // Use a chunked sending to avoid message size limits. See b/62115660.\n",
              "    let position = 0;\n",
              "    do {\n",
              "      const length = Math.min(fileData.byteLength - position, MAX_PAYLOAD_SIZE);\n",
              "      const chunk = new Uint8Array(fileData, position, length);\n",
              "      position += length;\n",
              "\n",
              "      const base64 = btoa(String.fromCharCode.apply(null, chunk));\n",
              "      yield {\n",
              "        response: {\n",
              "          action: 'append',\n",
              "          file: file.name,\n",
              "          data: base64,\n",
              "        },\n",
              "      };\n",
              "\n",
              "      let percentDone = fileData.byteLength === 0 ?\n",
              "          100 :\n",
              "          Math.round((position / fileData.byteLength) * 100);\n",
              "      percent.textContent = `${percentDone}% done`;\n",
              "\n",
              "    } while (position < fileData.byteLength);\n",
              "  }\n",
              "\n",
              "  // All done.\n",
              "  yield {\n",
              "    response: {\n",
              "      action: 'complete',\n",
              "    }\n",
              "  };\n",
              "}\n",
              "\n",
              "scope.google = scope.google || {};\n",
              "scope.google.colab = scope.google.colab || {};\n",
              "scope.google.colab._files = {\n",
              "  _uploadFiles,\n",
              "  _uploadFilesContinue,\n",
              "};\n",
              "})(self);\n",
              "</script> "
            ],
            "text/plain": [
              "<IPython.core.display.HTML object>"
            ]
          },
          "metadata": {},
          "output_type": "display_data"
        },
        {
          "name": "stdout",
          "output_type": "stream",
          "text": [
            "Saving musae_ENGB_edges.csv to musae_ENGB_edges.csv\n"
          ]
        }
      ],
      "source": [
        "uploaded = files.upload()"
      ]
    },
    {
      "cell_type": "code",
      "execution_count": 4,
      "metadata": {
        "id": "yo_S7iPe2B2V"
      },
      "outputs": [],
      "source": [
        "from NetworkSIR import Sir\n",
        "import NetworkSIR\n",
        "import simulation\n",
        "import pandas as pd\n",
        "import numpy as np\n",
        "from tabulate import tabulate"
      ]
    },
    {
      "cell_type": "markdown",
      "metadata": {
        "id": "wshvSVWzSBnI"
      },
      "source": [
        "SIMULAZIONI SINGOLE"
      ]
    },
    {
      "cell_type": "code",
      "execution_count": null,
      "metadata": {
        "colab": {
          "base_uri": "https://localhost:8080/",
          "height": 1195
        },
        "id": "5AODNxpE5vhi",
        "outputId": "18f76fc0-fba4-45f2-9a97-c6fe14d3e106"
      },
      "outputs": [],
      "source": [
        "#input parametri simulazione:p_trans, t_rec, t_sus, t_sim, num_sim \n",
        "simulation.random_simulation(25, 'facebook_combined.csv', ' ', 0.02, 7, 21, 60, 1)"
      ]
    },
    {
      "cell_type": "markdown",
      "metadata": {
        "id": "q3Mchhvp5-Qi"
      },
      "source": [
        "seconda simulazione con probabilità infezione al 5%"
      ]
    },
    {
      "cell_type": "code",
      "execution_count": null,
      "metadata": {
        "colab": {
          "base_uri": "https://localhost:8080/",
          "height": 1195
        },
        "id": "oTCBkd_d8Zvf",
        "outputId": "00e1cf0f-b0ef-484c-ddd7-d092195600ec"
      },
      "outputs": [],
      "source": [
        "#input parametri simulazione:p_trans, t_rec, t_sus, t_sim, num_sim\n",
        "simulation.random_simulation(25, 'facebook_combined.csv', ' ', 0.05, 7, 21, 60, 1)"
      ]
    },
    {
      "cell_type": "markdown",
      "metadata": {
        "id": "s_GIaLnEXZa3"
      },
      "source": [
        "aumento p_trans a 25%, t_rec 14 giorni in periodo di 180 giorni. In una rete modestamente grande, con un t_sus grande la malattia tenderà sempre a scomparire"
      ]
    },
    {
      "cell_type": "code",
      "execution_count": null,
      "metadata": {
        "colab": {
          "base_uri": "https://localhost:8080/",
          "height": 1000
        },
        "id": "vGt6gJZh-7UF",
        "outputId": "42341382-9388-4122-f8af-218ebe0b95e3"
      },
      "outputs": [],
      "source": [
        "#input parametri simulazione:p_trans, t_rec, t_sus, t_sim, num_sim\n",
        "simulation.random_simulation(25, 'facebook_combined.csv', ' ', 0.25, 14, 30, 90, 1)"
      ]
    },
    {
      "cell_type": "markdown",
      "metadata": {
        "id": "ZWdKLnUq96iJ"
      },
      "source": [
        "note: con probabilità diffusione malattia più alta si ha naturalamente uno spread maggiore nei timestep.\n",
        "L'andamento può essere caratterizzato da alcune diversità che dipendono in piccola parte dalla influenza dei nodi. \n",
        "Qui avviene lo spread massimo, tutti i nodi sono stati infettati; la malattia è raggiunta a tutti e si potrà più espandere. Con il tempo i nodi guariscono e tornano per sempre nello stato \"susceptible\""
      ]
    },
    {
      "cell_type": "markdown",
      "metadata": {
        "id": "hT1fIPGUajMi"
      },
      "source": [
        "test: t_rec e t_sus bassi -> malattia sempre in vita e espansione"
      ]
    },
    {
      "cell_type": "code",
      "execution_count": null,
      "metadata": {
        "colab": {
          "base_uri": "https://localhost:8080/",
          "height": 1000
        },
        "id": "QaNmblA9avQf",
        "outputId": "4eed74dc-b518-4660-cedc-0fbada245ede"
      },
      "outputs": [],
      "source": [
        "#input parametri simulazione:p_trans, t_rec, t_sus, t_sim, num_sim\n",
        "simulation.random_simulation(25, 'facebook_combined.csv', ' ', 0.05, 7, 7, 60, 1)"
      ]
    },
    {
      "cell_type": "markdown",
      "metadata": {
        "id": "XOZBaXhBClAt"
      },
      "source": [
        "dimunendo il tempo di guarigione (quindi + veloce), le probabilità di infezione aumentano perchè i nodi passano nello stato Suscettibile più immediatamente quindi con probabilità maggiore di contagiare più nodi. Allo stesso tempo influisce il tempo t_sus: se anche questo è elevato si ritorna ad essere vulnerabili molto più tardi, in questo caso la malattia tenderà a morire. Se il t_sus tende infinito, i nodi saranno per sempre guariti"
      ]
    },
    {
      "cell_type": "markdown",
      "metadata": {
        "id": "3wKcEFlhFZfE"
      },
      "source": [
        "Fattori che incidono sono il tempo di guarigione e il tempo di ritorno alla vulnerabilità:\n",
        "\n",
        "- Più la guarigione è lenta, più la malattia nella maggior parte dei casi sarà più letale inizialmente e andrà a colpire la maggior parte dei nodi. Al contrario, se ci si guarisce più velocemente , si avrà il rischio di tornare ad essere infettati (caso escluso con la guarigione che portà immunità)\n",
        "- il t_sus basso(lento) portà ad avere più probabilità di essere contagiati, mantenendo in vita la malattia. Viceversa un t_sus più elevanto permette di mantenere l'immunità dalla malattia, quindi portando la malattia alla morte (infetti = 0)"
      ]
    },
    {
      "cell_type": "markdown",
      "metadata": {
        "id": "dpbQW_X_T2NR"
      },
      "source": [
        "TEST SECONDA RETE"
      ]
    },
    {
      "cell_type": "code",
      "execution_count": null,
      "metadata": {
        "colab": {
          "base_uri": "https://localhost:8080/",
          "height": 1195
        },
        "id": "RgfZseNcT4Bq",
        "outputId": "14d4fb7b-028c-4710-a10a-8b3128ab6a3e"
      },
      "outputs": [],
      "source": [
        "#input parametri simulazione:p_trans, t_rec, t_sus, t_sim, num_sim\n",
        "random_simulation(25, 'musae_ENGB_edges.csv', ',', 0.02, 7, 21, 60, 1)"
      ]
    },
    {
      "cell_type": "markdown",
      "metadata": {
        "id": "G47mtLTRUQe0"
      },
      "source": [
        "aumento infetti iniziali"
      ]
    },
    {
      "cell_type": "code",
      "execution_count": null,
      "metadata": {
        "id": "KjZzxocgUF97"
      },
      "outputs": [],
      "source": [
        "#input parametri simulazione:p_trans, t_rec, t_sus, t_sim, num_sim\n",
        "simulation.random_simulation(50, 'musae_ENGB_edges.csv', ',', 0.02, 7, 21, 60, 1)"
      ]
    },
    {
      "cell_type": "markdown",
      "metadata": {
        "id": "k1_2H103UfmO"
      },
      "source": [
        "t_rec e t_sus bassi, malattia sempre in espansione"
      ]
    },
    {
      "cell_type": "code",
      "execution_count": null,
      "metadata": {
        "id": "nZw6X_zFUfHZ"
      },
      "outputs": [],
      "source": [
        "#input parametri simulazione:p_trans, t_rec, t_sus, t_sim, num_sim\n",
        "simulation.random_simulation(25, 'musae_ENGB_edges.csv', ',', 0.02, 7, 7, 60, 1)"
      ]
    },
    {
      "cell_type": "markdown",
      "metadata": {
        "id": "HElh3r0CUxBb"
      },
      "source": [
        "aumento p_trans a 7 % -> maggiore impatto della trasmissione"
      ]
    },
    {
      "cell_type": "code",
      "execution_count": null,
      "metadata": {
        "colab": {
          "base_uri": "https://localhost:8080/",
          "height": 1195
        },
        "id": "UOvBhWdPUvAL",
        "outputId": "4dcb3c13-8a74-4ce3-e288-3143085b46e4"
      },
      "outputs": [],
      "source": [
        "#input parametri simulazione:p_trans, t_rec, t_sus, t_sim, num_sim\n",
        "simulation.random_simulation(25, 'musae_ENGB_edges.csv', ',', 0.07, 14, 30, 60, 1)"
      ]
    },
    {
      "cell_type": "markdown",
      "metadata": {
        "id": "ShPN0DLpVAO3"
      },
      "source": [
        "t_sus infinito -> guarigione completa"
      ]
    },
    {
      "cell_type": "code",
      "execution_count": null,
      "metadata": {
        "colab": {
          "base_uri": "https://localhost:8080/",
          "height": 1195
        },
        "id": "RGxGXmpXU_yz",
        "outputId": "cce6d593-2537-4cac-c4dd-7ce88d53c385"
      },
      "outputs": [],
      "source": [
        "#input parametri simulazione:p_trans, t_rec, t_sus, t_sim, num_sim\n",
        "simulation.random_simulation(25, 'musae_ENGB_edges.csv', ',', 0.07, 7, 999, 60, 1)"
      ]
    },
    {
      "cell_type": "markdown",
      "metadata": {
        "id": "BTLUfCA6TxMR"
      },
      "source": [
        "RANDOM SIMULATION"
      ]
    },
    {
      "cell_type": "code",
      "execution_count": null,
      "metadata": {
        "colab": {
          "base_uri": "https://localhost:8080/",
          "height": 1000
        },
        "id": "jj66UyokVpJm",
        "outputId": "89b91b62-737d-413d-fbe0-c407a68257d3"
      },
      "outputs": [],
      "source": [
        "#input parametri simulazione:p_trans, t_rec, t_sus, t_sim, num_sim\n",
        "simulation.random_simulation(25, 'facebook_combined.csv', ' ', 0.05, 7, 21, 60, 300)"
      ]
    },
    {
      "cell_type": "code",
      "execution_count": null,
      "metadata": {
        "colab": {
          "base_uri": "https://localhost:8080/",
          "height": 1000
        },
        "id": "Hk2GwT1-Vqjf",
        "outputId": "8d160a41-e55f-4751-a588-1f756cb4ad18"
      },
      "outputs": [],
      "source": [
        "#input parametri simulazione:p_trans, t_rec, t_sus, t_sim, num_sim\n",
        "simulation.random_simulation(25, 'musae_ENGB_edges.csv', ',', 0.02, 7, 21, 60, 300)"
      ]
    },
    {
      "cell_type": "markdown",
      "metadata": {
        "id": "FjRy6flsFbat"
      },
      "source": [
        "HEATMAP DELLE METRICHE DI CENTRALITA E TOP NODI"
      ]
    },
    {
      "cell_type": "code",
      "execution_count": null,
      "metadata": {
        "id": "G_ysxxcATrQm"
      },
      "outputs": [],
      "source": [
        "import centralitynodes"
      ]
    },
    {
      "cell_type": "code",
      "execution_count": null,
      "metadata": {
        "id": "85sKXsbRWomc"
      },
      "outputs": [],
      "source": [
        "fb = NetworkSIR.getNetwork('facebook_combined.csv', ' ')\n",
        "tw = NetworkSIR.getNetwork('musae_ENGB_edges.csv', ' ')"
      ]
    },
    {
      "cell_type": "code",
      "execution_count": null,
      "metadata": {},
      "outputs": [],
      "source": [
        "import centralitynodes"
      ]
    },
    {
      "cell_type": "code",
      "execution_count": null,
      "metadata": {
        "id": "OkIhThjyXBLK"
      },
      "outputs": [],
      "source": [
        "centralitynodes.heatmap_centrality(fb, 'betweenness centrality')\n",
        "centralitynodes.heatmap_centrality(fb, 'closeness centrality')\n",
        "centralitynodes.heatmap_centrality(fb, 'eigenvector centrality')\n",
        "centralitynodes.heatmap_centrality(fb, 'degree centrality')"
      ]
    },
    {
      "cell_type": "code",
      "execution_count": null,
      "metadata": {
        "id": "oMcxGzszXZ-W"
      },
      "outputs": [],
      "source": [
        "centralitynodes.heatmap_centrality(tw, 'betweenness centrality')\n",
        "centralitynodes.heatmap_centrality(tw, 'closeness centrality')\n",
        "centralitynodes.heatmap_centrality(tw, 'eigenvector centrality')\n",
        "centralitynodes.heatmap_centrality(tw, 'degree centrality')"
      ]
    },
    {
      "cell_type": "code",
      "execution_count": null,
      "metadata": {
        "colab": {
          "base_uri": "https://localhost:8080/"
        },
        "id": "G-ea6EA8JOd9",
        "outputId": "3edbf047-6e9c-4887-f5b1-fbd0e7e98a32"
      },
      "outputs": [
        {
          "name": "stdout",
          "output_type": "stream",
          "text": [
            "+----+------+------+------+------+------+\n",
            "|    |   BC |   CC |   EC |   DC |   VR |\n",
            "|----+------+------+------+------+------|\n",
            "|  1 |  107 |  107 | 1912 |  107 |  107 |\n",
            "|  2 | 1684 |   58 | 2266 | 1684 | 1684 |\n",
            "|  3 | 3437 |  428 | 2206 | 1912 | 1912 |\n",
            "|  4 | 1912 |  563 | 2233 | 3437 | 3437 |\n",
            "|  5 | 1085 | 1684 | 2464 |    0 |    0 |\n",
            "|  6 |    0 |  171 | 2142 | 2543 | 2543 |\n",
            "|  7 |  698 |  348 | 2218 | 2347 | 2347 |\n",
            "|  8 |  567 |  483 | 2078 | 1888 | 1888 |\n",
            "|  9 |   58 |  414 | 2123 | 1800 | 1800 |\n",
            "| 10 |  428 |  376 | 1993 | 1663 |  348 |\n",
            "| 11 |  563 |  475 | 2410 | 2266 |  483 |\n",
            "| 12 |  860 |  566 | 2244 | 1352 | 2266 |\n",
            "| 13 |  414 | 1666 | 2507 |  483 | 1663 |\n",
            "| 14 | 1577 | 1534 | 2240 |  348 | 1352 |\n",
            "| 15 |  348 |  484 | 2340 | 1730 | 1941 |\n",
            "+----+------+------+------+------+------+\n"
          ]
        },
        {
          "name": "stderr",
          "output_type": "stream",
          "text": [
            "/content/NetworkSIR.py:278: FutureWarning: Passing 'suffixes' which cause duplicate columns {'node_x'} in the result is deprecated and will raise a MergeError in a future version.\n",
            "  ss =pd.merge(ss, DC, left_index=True, right_index=True)\n"
          ]
        }
      ],
      "source": [
        "centralitynodes.top_centrality_node(fb)\n",
        "centralitynodes.top_centrality_node(tw)"
      ]
    }
  ],
  "metadata": {
    "colab": {
      "collapsed_sections": [],
      "provenance": []
    },
    "kernelspec": {
      "display_name": "Python 3",
      "name": "python3"
    },
    "language_info": {
      "name": "python"
    }
  },
  "nbformat": 4,
  "nbformat_minor": 0
}
